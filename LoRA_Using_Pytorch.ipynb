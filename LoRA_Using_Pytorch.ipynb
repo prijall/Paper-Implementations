{
  "nbformat": 4,
  "nbformat_minor": 0,
  "metadata": {
    "colab": {
      "provenance": [],
      "gpuType": "T4",
      "authorship_tag": "ABX9TyMPWncn0zLgCrhu+Cvc2BiA"
    },
    "kernelspec": {
      "name": "python3",
      "display_name": "Python 3"
    },
    "language_info": {
      "name": "python"
    },
    "accelerator": "GPU"
  },
  "cells": [
    {
      "cell_type": "code",
      "execution_count": 1,
      "metadata": {
        "id": "KuLHVB0nE65K"
      },
      "outputs": [],
      "source": [
        "import torch\n",
        "import torchvision.datasets as datasets\n",
        "import torchvision.transforms as transforms\n",
        "import torch.nn as nn\n",
        "import matplotlib.pyplot as plt\n",
        "from tqdm import tqdm"
      ]
    },
    {
      "cell_type": "code",
      "source": [
        "device= 'cuda' if torch.cuda.is_available() else 'cpu'"
      ],
      "metadata": {
        "id": "tTvOX4eTIN7D"
      },
      "execution_count": 2,
      "outputs": []
    },
    {
      "cell_type": "code",
      "source": [
        "transform = transforms.Compose([transforms.ToTensor(),\n",
        "                                transforms.Normalize((0.1307,), (0.3081,))])\n",
        "\n",
        "# Load the MNIST dataset\n",
        "mnist_trainset = datasets.MNIST(root='./data', train=True, download=True, transform=transform)\n",
        "# Create a dataloader for the training\n",
        "train_loader = torch.utils.data.DataLoader(mnist_trainset, batch_size=10, shuffle=True)\n",
        "\n",
        "# Load the MNIST test set\n",
        "mnist_testset = datasets.MNIST(root='./data', train=False, download=True, transform=transform)\n",
        "test_loader = torch.utils.data.DataLoader(mnist_testset, batch_size=10, shuffle=True)"
      ],
      "metadata": {
        "colab": {
          "base_uri": "https://localhost:8080/"
        },
        "id": "UcXM_vbtBMrn",
        "outputId": "6ca90ef9-45f1-4bc2-a5ea-f6bef28cbdc7"
      },
      "execution_count": 3,
      "outputs": [
        {
          "output_type": "stream",
          "name": "stderr",
          "text": [
            "100%|██████████| 9.91M/9.91M [00:01<00:00, 5.10MB/s]\n",
            "100%|██████████| 28.9k/28.9k [00:00<00:00, 133kB/s]\n",
            "100%|██████████| 1.65M/1.65M [00:01<00:00, 1.27MB/s]\n",
            "100%|██████████| 4.54k/4.54k [00:00<00:00, 6.62MB/s]\n"
          ]
        }
      ]
    },
    {
      "cell_type": "code",
      "source": [
        "class DigiNet(nn.Module):\n",
        "  def __init__(self, HiddenLayer1=1500):\n",
        "    super(DigiNet, self).__init__()\n",
        "    self.linear1=nn.Linear(28*28, HiddenLayer1)\n",
        "    self.linear2=nn.Linear(HiddenLayer1, 10)\n",
        "    self.relu=nn.ReLU()\n",
        "\n",
        "  def forward(self, img):\n",
        "    x=img.view(-1, 28*28)\n",
        "    x=self.relu(self.linear1(x))\n",
        "    x=self.linear2(x)\n",
        "    return x\n",
        "\n",
        "net=DigiNet().to(device)"
      ],
      "metadata": {
        "id": "ln5_Ir22FS9h"
      },
      "execution_count": 4,
      "outputs": []
    },
    {
      "cell_type": "code",
      "source": [
        "def train(train_loader, net, epochs=7):\n",
        "  CELoss=nn.CrossEntropyLoss()\n",
        "  optim=torch.optim.Adam(net.parameters(), lr=0.001)\n",
        "  total_loss=0\n",
        "  num_iterations=0\n",
        "\n",
        "  for epoch in range(epochs):\n",
        "    net.train() #enable dropout and training\n",
        "    data_iterator=tqdm(train_loader, desc=f'Epoch {epoch +1}')\n",
        "    for data in data_iterator:\n",
        "      num_iterations+=1\n",
        "      x, y=data\n",
        "      x=x.to(device)\n",
        "      y=y.to(device)\n",
        "      optim.zero_grad()\n",
        "      output=net(x.view(-1, 28*28))\n",
        "      loss=CELoss(output, y)\n",
        "      total_loss+=loss.item()\n",
        "      avg_loss=total_loss/num_iterations\n",
        "      data_iterator.set_postfix(loss=avg_loss)\n",
        "      loss.backward()\n",
        "      optim.step()\n",
        "\n",
        "train(train_loader, net, epochs=1)\n"
      ],
      "metadata": {
        "id": "UX7JvINjIirC",
        "colab": {
          "base_uri": "https://localhost:8080/"
        },
        "outputId": "90e8c6e7-75cb-4966-c3f2-8c61117f230b"
      },
      "execution_count": 5,
      "outputs": [
        {
          "output_type": "stream",
          "name": "stderr",
          "text": [
            "Epoch 1: 100%|██████████| 6000/6000 [00:32<00:00, 182.14it/s, loss=0.198]\n"
          ]
        }
      ]
    },
    {
      "cell_type": "code",
      "source": [
        "def test():\n",
        "  correct=0\n",
        "  total=0\n",
        "\n",
        "  wrong_counts=[0 for i in range(10)]\n",
        "  with torch.no_grad():\n",
        "    for data in tqdm(test_loader, desc='Testing'):\n",
        "      x,y =data\n",
        "      x=x.to(device)\n",
        "      y=y.to(device)\n",
        "      output=net(x.view(-1, 28*28))\n",
        "\n",
        "      for idx, i in enumerate(output):\n",
        "        if torch.argmax(i)==y[idx]:\n",
        "          correct+=1\n",
        "        else:\n",
        "          wrong_counts[y[idx]]+=1\n",
        "        total+=1\n",
        "    print(f'Accuracy: {round(correct/total, 3)}')\n",
        "\n",
        "    for i in range(len(wrong_counts)):\n",
        "        print(f'wrong counts for digit {i}: {wrong_counts[i]}')\n",
        "test()"
      ],
      "metadata": {
        "colab": {
          "base_uri": "https://localhost:8080/"
        },
        "id": "DeVEDgTb-rlu",
        "outputId": "201237fa-1feb-4f7e-fa8c-af6e48b8eb9b"
      },
      "execution_count": 6,
      "outputs": [
        {
          "output_type": "stream",
          "name": "stderr",
          "text": [
            "Testing: 100%|██████████| 1000/1000 [00:03<00:00, 319.45it/s]"
          ]
        },
        {
          "output_type": "stream",
          "name": "stdout",
          "text": [
            "Accuracy: 0.959\n",
            "wrong counts for digit 0: 8\n",
            "wrong counts for digit 1: 11\n",
            "wrong counts for digit 2: 36\n",
            "wrong counts for digit 3: 40\n",
            "wrong counts for digit 4: 63\n",
            "wrong counts for digit 5: 27\n",
            "wrong counts for digit 6: 20\n",
            "wrong counts for digit 7: 85\n",
            "wrong counts for digit 8: 66\n",
            "wrong counts for digit 9: 52\n"
          ]
        },
        {
          "output_type": "stream",
          "name": "stderr",
          "text": [
            "\n"
          ]
        }
      ]
    },
    {
      "cell_type": "code",
      "source": [
        "total_original_parameter=0\n",
        "for index, layer in enumerate([net.linear1, net.linear2]):\n",
        "  total_original_parameter+=layer.weight.nelement()+ layer.bias.nelement()\n",
        "  print(f'Layer {index+1}: W: {layer.weight.shape} + B:{layer.bias.shape}')\n",
        "print(f'Total parameters: {total_original_parameter}')\n"
      ],
      "metadata": {
        "colab": {
          "base_uri": "https://localhost:8080/"
        },
        "id": "F8HUOb_uM1Bn",
        "outputId": "cdbb5ef6-e5f8-4351-c035-ae63a4f89a9b"
      },
      "execution_count": 7,
      "outputs": [
        {
          "output_type": "stream",
          "name": "stdout",
          "text": [
            "Layer 1: W: torch.Size([1500, 784]) + B:torch.Size([1500])\n",
            "Layer 2: W: torch.Size([10, 1500]) + B:torch.Size([10])\n",
            "Total parameters: 1192510\n"
          ]
        }
      ]
    },
    {
      "cell_type": "markdown",
      "source": [
        "## Lora Parameterization:"
      ],
      "metadata": {
        "id": "iV8UkHVWQbm4"
      }
    },
    {
      "cell_type": "code",
      "source": [
        "class LoRAParameterization():\n",
        "  def __init__(self, in_features, out_features,rank, alpha):\n",
        "    self.LoRA_A=nn.Parameter(torch.zeros((rank, in_features)).to(device))\n",
        "    self.LoRA_B=nn.Parameter(torch.zeros((out_featurres, rank)).to(device))\n",
        "    nn.init.normal_(self.LoRA_A, mean=0, std=1)\n",
        "    self.scale=alpha/rank\n",
        "    self.enabled=True\n",
        "\n",
        "  def forward(self, original_weights):\n",
        "    if self.enabled:\n",
        "      return original_weights + torch.matmul(self.LoRA_B, self.LoRA_A).view(original_weights.shape)*self.scale\n",
        "    else:\n",
        "      return original_weights\n"
      ],
      "metadata": {
        "id": "6IObCbunQeRn"
      },
      "execution_count": null,
      "outputs": []
    }
  ]
}