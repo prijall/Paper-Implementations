{
  "nbformat": 4,
  "nbformat_minor": 0,
  "metadata": {
    "colab": {
      "provenance": [],
      "authorship_tag": "ABX9TyMswrUkkA1DxqjjqLVrHlWP"
    },
    "kernelspec": {
      "name": "python3",
      "display_name": "Python 3"
    },
    "language_info": {
      "name": "python"
    }
  },
  "cells": [
    {
      "cell_type": "code",
      "execution_count": null,
      "metadata": {
        "id": "KuLHVB0nE65K"
      },
      "outputs": [],
      "source": [
        "import torch\n",
        "import torch.nn as nn\n",
        "from tqdm import tqdm"
      ]
    },
    {
      "cell_type": "code",
      "source": [
        "device= 'cuda' if torch.cuda.is_available() else 'cpu'"
      ],
      "metadata": {
        "id": "tTvOX4eTIN7D"
      },
      "execution_count": null,
      "outputs": []
    },
    {
      "cell_type": "code",
      "source": [
        "class DigiNet(nn.Module):\n",
        "  def __init__(self, HiddenLayer1=1500):\n",
        "    super(DigiNet, self).__init__()\n",
        "    self.linear1=nn.Linear(28*28, HiddenLayer1)\n",
        "    self.linear2=nn.Linear(HiddenLayer1, 10)\n",
        "    self.relu=nn.ReLU()\n",
        "\n",
        "  def forward(self, img):\n",
        "    x=img.view(-1, 28*28)\n",
        "    x=self.relu(self.linear1(x))\n",
        "    x=self.relu(self.linear2(x))\n",
        "    return x\n",
        "\n",
        "net=DigiNet().to(device)"
      ],
      "metadata": {
        "id": "ln5_Ir22FS9h"
      },
      "execution_count": null,
      "outputs": []
    },
    {
      "cell_type": "code",
      "source": [
        "def train(trainloader, net, epochs=7):\n",
        "  loss=nn.CrossEntropyLoss()\n",
        "  optim=torch.optim.Adam(net.parameters(), lr=0.001)\n",
        "\n",
        "  for epoch in range(epochs):\n",
        "    net.train() #enable dropout and training\n",
        "    data_iterator=tqdm(trainloader, desc=f'Epoch {epoch +1}')\n",
        "    for data in data_iterator:\n",
        ""
      ],
      "metadata": {
        "id": "UX7JvINjIirC"
      },
      "execution_count": null,
      "outputs": []
    }
  ]
}