{
  "nbformat": 4,
  "nbformat_minor": 0,
  "metadata": {
    "colab": {
      "provenance": [],
      "gpuType": "T4",
      "authorship_tag": "ABX9TyN3NhuZ63rPhwuAazMifnSN"
    },
    "kernelspec": {
      "name": "python3",
      "display_name": "Python 3"
    },
    "language_info": {
      "name": "python"
    },
    "accelerator": "GPU"
  },
  "cells": [
    {
      "cell_type": "code",
      "execution_count": null,
      "metadata": {
        "id": "KuLHVB0nE65K"
      },
      "outputs": [],
      "source": [
        "import torch\n",
        "import torchvision.datasets as datasets\n",
        "import torchvision.transforms as transforms\n",
        "import torch.nn as nn\n",
        "import matplotlib.pyplot as plt\n",
        "from tqdm import tqdm"
      ]
    },
    {
      "cell_type": "code",
      "source": [
        "device= 'cuda' if torch.cuda.is_available() else 'cpu'"
      ],
      "metadata": {
        "id": "tTvOX4eTIN7D"
      },
      "execution_count": null,
      "outputs": []
    },
    {
      "cell_type": "code",
      "source": [
        "transform = transforms.Compose([transforms.ToTensor(),\n",
        "                                transforms.Normalize((0.1307,), (0.3081,))])\n",
        "\n",
        "# Load the MNIST dataset\n",
        "mnist_trainset = datasets.MNIST(root='./data', train=True, download=True, transform=transform)\n",
        "# Create a dataloader for the training\n",
        "train_loader = torch.utils.data.DataLoader(mnist_trainset, batch_size=10, shuffle=True)\n",
        "\n",
        "# Load the MNIST test set\n",
        "mnist_testset = datasets.MNIST(root='./data', train=False, download=True, transform=transform)\n",
        "test_loader = torch.utils.data.DataLoader(mnist_testset, batch_size=10, shuffle=True)"
      ],
      "metadata": {
        "colab": {
          "base_uri": "https://localhost:8080/"
        },
        "id": "UcXM_vbtBMrn",
        "outputId": "b9666c91-cd86-46ab-ad52-1274420c5362"
      },
      "execution_count": null,
      "outputs": [
        {
          "output_type": "stream",
          "name": "stderr",
          "text": [
            "100%|██████████| 9.91M/9.91M [00:01<00:00, 5.12MB/s]\n",
            "100%|██████████| 28.9k/28.9k [00:00<00:00, 133kB/s]\n",
            "100%|██████████| 1.65M/1.65M [00:01<00:00, 1.28MB/s]\n",
            "100%|██████████| 4.54k/4.54k [00:00<00:00, 6.30MB/s]\n"
          ]
        }
      ]
    },
    {
      "cell_type": "code",
      "source": [
        "class DigiNet(nn.Module):\n",
        "  def __init__(self, HiddenLayer1=1500):\n",
        "    super(DigiNet, self).__init__()\n",
        "    self.linear1=nn.Linear(28*28, HiddenLayer1)\n",
        "    self.linear2=nn.Linear(HiddenLayer1, 10)\n",
        "    self.relu=nn.ReLU()\n",
        "\n",
        "  def forward(self, img):\n",
        "    x=img.view(-1, 28*28)\n",
        "    x=self.relu(self.linear1(x))\n",
        "    x=self.linear2(x)\n",
        "    return x\n",
        "\n",
        "net=DigiNet().to(device)"
      ],
      "metadata": {
        "id": "ln5_Ir22FS9h"
      },
      "execution_count": null,
      "outputs": []
    },
    {
      "cell_type": "code",
      "source": [
        "def train(train_loader, net, epochs=7):\n",
        "  CELoss=nn.CrossEntropyLoss()\n",
        "  optim=torch.optim.Adam(net.parameters(), lr=0.001)\n",
        "  total_loss=0\n",
        "  num_iterations=0\n",
        "\n",
        "  for epoch in range(epochs):\n",
        "    net.train() #enable dropout and training\n",
        "    data_iterator=tqdm(train_loader, desc=f'Epoch {epoch +1}')\n",
        "    for data in data_iterator:\n",
        "      num_iterations+=1\n",
        "      x, y=data\n",
        "      x=x.to(device)\n",
        "      y=y.to(device)\n",
        "      optim.zero_grad()\n",
        "      output=net(x.view(-1, 28*28))\n",
        "      loss=CELoss(output, y)\n",
        "      total_loss+=loss.item()\n",
        "      avg_loss=total_loss/num_iterations\n",
        "      data_iterator.set_postfix(loss=avg_loss)\n",
        "      loss.backward()\n",
        "      optim.step()\n",
        "\n",
        "train(train_loader, net, epochs=1)\n"
      ],
      "metadata": {
        "id": "UX7JvINjIirC",
        "colab": {
          "base_uri": "https://localhost:8080/"
        },
        "outputId": "d0974188-b9e1-4acd-b989-92c160cfaba5"
      },
      "execution_count": null,
      "outputs": [
        {
          "output_type": "stream",
          "name": "stderr",
          "text": [
            "Epoch 1: 100%|██████████| 6000/6000 [00:31<00:00, 187.99it/s, loss=0.196]\n"
          ]
        }
      ]
    },
    {
      "cell_type": "code",
      "source": [
        "def test():\n",
        "  correct=0\n",
        "  total=0\n",
        "\n",
        "  wrong_counts=[0 for i in range(10)]\n",
        "  with torch.no_grad():\n",
        "    for data in tqdm(test_loader, desc='Testing'):\n",
        "      x,y =data\n",
        "      x=x.to(device)\n",
        "      y=y.to(device)\n",
        "      output=net(x.view(-1, 28*28))\n",
        "\n",
        "      for idx, i in enumerate(output):\n",
        "        if torch.argmax(i)==y[idx]:\n",
        "          correct+=1\n",
        "        else:\n",
        "          wrong_counts[y[idx]]+=1\n",
        "        total+=1\n",
        "    print(f'Accuracy: {round(correct/total, 3)}')\n",
        "\n",
        "    for i in range(len(wrong_counts)):\n",
        "        print(f'wrong counts for digit {i}: {wrong_counts[i]}')\n",
        "test()"
      ],
      "metadata": {
        "colab": {
          "base_uri": "https://localhost:8080/"
        },
        "id": "DeVEDgTb-rlu",
        "outputId": "5d338b3f-1971-460f-ebe1-ed583292d4db"
      },
      "execution_count": null,
      "outputs": [
        {
          "output_type": "stream",
          "name": "stderr",
          "text": [
            "Testing: 100%|██████████| 1000/1000 [00:02<00:00, 343.32it/s]"
          ]
        },
        {
          "output_type": "stream",
          "name": "stdout",
          "text": [
            "Accuracy: 0.964\n",
            "wrong counts for digit 0: 25\n",
            "wrong counts for digit 1: 14\n",
            "wrong counts for digit 2: 23\n",
            "wrong counts for digit 3: 40\n",
            "wrong counts for digit 4: 30\n",
            "wrong counts for digit 5: 58\n",
            "wrong counts for digit 6: 55\n",
            "wrong counts for digit 7: 45\n",
            "wrong counts for digit 8: 29\n",
            "wrong counts for digit 9: 42\n"
          ]
        },
        {
          "output_type": "stream",
          "name": "stderr",
          "text": [
            "\n"
          ]
        }
      ]
    }
  ]
}