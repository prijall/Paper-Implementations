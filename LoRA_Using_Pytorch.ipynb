{
  "nbformat": 4,
  "nbformat_minor": 0,
  "metadata": {
    "colab": {
      "provenance": [],
      "gpuType": "T4",
      "authorship_tag": "ABX9TyOhkfKo/+C6FcmSR/cgF2xU"
    },
    "kernelspec": {
      "name": "python3",
      "display_name": "Python 3"
    },
    "language_info": {
      "name": "python"
    },
    "accelerator": "GPU"
  },
  "cells": [
    {
      "cell_type": "code",
      "execution_count": 103,
      "metadata": {
        "id": "KuLHVB0nE65K"
      },
      "outputs": [],
      "source": [
        "import torch\n",
        "import torchvision.datasets as datasets\n",
        "import torchvision.transforms as transforms\n",
        "import torch.nn as nn\n",
        "import matplotlib.pyplot as plt\n",
        "from tqdm import tqdm"
      ]
    },
    {
      "cell_type": "code",
      "source": [
        "device= 'cuda' if torch.cuda.is_available() else 'cpu'"
      ],
      "metadata": {
        "id": "tTvOX4eTIN7D"
      },
      "execution_count": 104,
      "outputs": []
    },
    {
      "cell_type": "code",
      "source": [
        "transform = transforms.Compose([transforms.ToTensor(),\n",
        "                                transforms.Normalize((0.1307,), (0.3081,))])\n",
        "\n",
        "# Load the MNIST dataset\n",
        "mnist_trainset = datasets.MNIST(root='./data', train=True, download=True, transform=transform)\n",
        "# Create a dataloader for the training\n",
        "train_loader = torch.utils.data.DataLoader(mnist_trainset, batch_size=10, shuffle=True)\n",
        "\n",
        "# Load the MNIST test set\n",
        "mnist_testset = datasets.MNIST(root='./data', train=False, download=True, transform=transform)\n",
        "test_loader = torch.utils.data.DataLoader(mnist_testset, batch_size=10, shuffle=True)"
      ],
      "metadata": {
        "id": "UcXM_vbtBMrn"
      },
      "execution_count": 105,
      "outputs": []
    },
    {
      "cell_type": "code",
      "source": [
        "class DigiNet(nn.Module):\n",
        "  def __init__(self, HiddenLayer1=1500):\n",
        "    super(DigiNet, self).__init__()\n",
        "    self.linear1=nn.Linear(28*28, HiddenLayer1)\n",
        "    self.linear2=nn.Linear(HiddenLayer1, 10)\n",
        "    self.relu=nn.ReLU()\n",
        "\n",
        "  def forward(self, img):\n",
        "    x=img.view(-1, 28*28)\n",
        "    x=self.relu(self.linear1(x))\n",
        "    x=self.linear2(x)\n",
        "    return x\n",
        "\n",
        "net=DigiNet().to(device)"
      ],
      "metadata": {
        "id": "ln5_Ir22FS9h"
      },
      "execution_count": 106,
      "outputs": []
    },
    {
      "cell_type": "code",
      "source": [
        "def train(train_loader, net, epochs=7):\n",
        "  CELoss=nn.CrossEntropyLoss()\n",
        "  optim=torch.optim.Adam(net.parameters(), lr=0.001)\n",
        "  total_loss=0\n",
        "  num_iterations=0\n",
        "\n",
        "  for epoch in range(epochs):\n",
        "    net.train() #enable dropout and training\n",
        "    data_iterator=tqdm(train_loader, desc=f'Epoch {epoch +1}')\n",
        "    for data in data_iterator:\n",
        "      num_iterations+=1\n",
        "      x, y=data\n",
        "      x=x.to(device)\n",
        "      y=y.to(device)\n",
        "      optim.zero_grad()\n",
        "      output=net(x.view(-1, 28*28))\n",
        "      loss=CELoss(output, y)\n",
        "      total_loss+=loss.item()\n",
        "      avg_loss=total_loss/num_iterations\n",
        "      data_iterator.set_postfix(loss=avg_loss)\n",
        "      loss.backward()\n",
        "      optim.step()"
      ],
      "metadata": {
        "id": "UX7JvINjIirC"
      },
      "execution_count": 107,
      "outputs": []
    },
    {
      "cell_type": "code",
      "source": [
        "original_weights = {}\n",
        "for name, param in net.named_parameters():\n",
        "    original_weights[name] = param.clone().detach()"
      ],
      "metadata": {
        "id": "TrM4vqyBXsLg"
      },
      "execution_count": 108,
      "outputs": []
    },
    {
      "cell_type": "code",
      "source": [
        "def test():\n",
        "  correct=0\n",
        "  total=0\n",
        "\n",
        "  wrong_counts=[0 for i in range(10)]\n",
        "  with torch.no_grad():\n",
        "    for data in tqdm(test_loader, desc='Testing'):\n",
        "      x,y =data\n",
        "      x=x.to(device)\n",
        "      y=y.to(device)\n",
        "      output=net(x.view(-1, 28*28))\n",
        "\n",
        "      for idx, i in enumerate(output):\n",
        "        if torch.argmax(i)==y[idx]:\n",
        "          correct+=1\n",
        "        else:\n",
        "          wrong_counts[y[idx]]+=1\n",
        "        total+=1\n",
        "    print(f'Accuracy: {round(correct/total, 3)}')\n",
        "\n",
        "    for i in range(len(wrong_counts)):\n",
        "        print(f'wrong counts for digit {i}: {wrong_counts[i]}')\n",
        "test()"
      ],
      "metadata": {
        "colab": {
          "base_uri": "https://localhost:8080/"
        },
        "id": "DeVEDgTb-rlu",
        "outputId": "6526b925-caea-4828-fabb-4f5357368fcc"
      },
      "execution_count": 109,
      "outputs": [
        {
          "output_type": "stream",
          "name": "stderr",
          "text": [
            "Testing: 100%|██████████| 1000/1000 [00:03<00:00, 251.00it/s]"
          ]
        },
        {
          "output_type": "stream",
          "name": "stdout",
          "text": [
            "Accuracy: 0.12\n",
            "wrong counts for digit 0: 894\n",
            "wrong counts for digit 1: 1126\n",
            "wrong counts for digit 2: 834\n",
            "wrong counts for digit 3: 1005\n",
            "wrong counts for digit 4: 961\n",
            "wrong counts for digit 5: 787\n",
            "wrong counts for digit 6: 956\n",
            "wrong counts for digit 7: 1028\n",
            "wrong counts for digit 8: 888\n",
            "wrong counts for digit 9: 318\n"
          ]
        },
        {
          "output_type": "stream",
          "name": "stderr",
          "text": [
            "\n"
          ]
        }
      ]
    },
    {
      "cell_type": "code",
      "source": [
        "total_original_parameter=0\n",
        "for index, layer in enumerate([net.linear1, net.linear2]):\n",
        "  total_original_parameter+=layer.weight.nelement()+ layer.bias.nelement()\n",
        "  print(f'Layer {index+1}: W: {layer.weight.shape} + B:{layer.bias.shape}')\n",
        "print(f'Total parameters: {total_original_parameter}')\n"
      ],
      "metadata": {
        "colab": {
          "base_uri": "https://localhost:8080/"
        },
        "id": "F8HUOb_uM1Bn",
        "outputId": "3919dcbd-0f80-4e65-f8ed-5c1b2af1c206"
      },
      "execution_count": 110,
      "outputs": [
        {
          "output_type": "stream",
          "name": "stdout",
          "text": [
            "Layer 1: W: torch.Size([1500, 784]) + B:torch.Size([1500])\n",
            "Layer 2: W: torch.Size([10, 1500]) + B:torch.Size([10])\n",
            "Total parameters: 1192510\n"
          ]
        }
      ]
    },
    {
      "cell_type": "markdown",
      "source": [
        "## Lora Parameterization:"
      ],
      "metadata": {
        "id": "iV8UkHVWQbm4"
      }
    },
    {
      "cell_type": "code",
      "source": [
        "class LoRAParameterization(nn.Module):\n",
        "  def __init__(self, in_features, out_features,rank=1, alpha=1, device='cpu'):\n",
        "    super().__init__()\n",
        "    self.LoRA_A=nn.Parameter(torch.zeros((rank, in_features)).to(device))\n",
        "    self.LoRA_B=nn.Parameter(torch.zeros((out_features, rank)).to(device))\n",
        "    nn.init.normal_(self.LoRA_A, mean=0, std=1)\n",
        "    self.scale=alpha/rank\n",
        "    self.enabled=True\n",
        "\n",
        "  def forward(self, original_weights):\n",
        "    if self.enabled:\n",
        "      return original_weights + torch.matmul(self.LoRA_B, self.LoRA_A).view(original_weights.shape)*self.scale\n",
        "    else:\n",
        "      return original_weights\n"
      ],
      "metadata": {
        "id": "6IObCbunQeRn"
      },
      "execution_count": 111,
      "outputs": []
    },
    {
      "cell_type": "code",
      "source": [
        "import torch.nn.utils.parametrize as parametrize\n",
        "\n",
        "def linear_layer_parameterization(layer, device, rank=1, lora_alpha=1):\n",
        "  in_features, out_features=layer.weight.shape\n",
        "  return LoRAParameterization(\n",
        "      in_features, out_features,rank=rank, alpha=lora_alpha, device=device\n",
        "  )\n",
        "\n",
        "parametrize.register_parametrization(\n",
        "    net.linear1, \"weight\", linear_layer_parameterization(net.linear1, device)\n",
        ")\n",
        "\n",
        "parametrize.register_parametrization(\n",
        "    net.linear2, \"weight\", linear_layer_parameterization(net.linear2, device)\n",
        ")"
      ],
      "metadata": {
        "colab": {
          "base_uri": "https://localhost:8080/"
        },
        "id": "cQhZjAzbPtiP",
        "outputId": "99fa711e-f48e-4aa4-e4f1-3bfff547458e"
      },
      "execution_count": 112,
      "outputs": [
        {
          "output_type": "execute_result",
          "data": {
            "text/plain": [
              "ParametrizedLinear(\n",
              "  in_features=1500, out_features=10, bias=True\n",
              "  (parametrizations): ModuleDict(\n",
              "    (weight): ParametrizationList(\n",
              "      (0): LoRAParameterization()\n",
              "    )\n",
              "  )\n",
              ")"
            ]
          },
          "metadata": {},
          "execution_count": 112
        }
      ]
    },
    {
      "cell_type": "code",
      "source": [
        "def enable_disable_lora(enabled=True):\n",
        "  for layer in [net.linear1, net.linear2]:\n",
        "    layer.parametrizations['weight'][0].enabled=enabled"
      ],
      "metadata": {
        "id": "h7FleVV6R89H"
      },
      "execution_count": 113,
      "outputs": []
    },
    {
      "cell_type": "code",
      "source": [
        "total_lora_params=0\n",
        "for index, layers in enumerate([net.linear1, net.linear2]):\n",
        "  total_lora_params+=layer.parametrizations['weight'][0].LoRA_A.nelement() + layer.parametrizations['weight'][0].LoRA_B.nelement()\n",
        "\n",
        "\n",
        "print(f'Total LoRA parameters: {total_lora_params}')"
      ],
      "metadata": {
        "colab": {
          "base_uri": "https://localhost:8080/"
        },
        "id": "BtzlFsQBT85v",
        "outputId": "68038f8b-5eb9-4824-98d2-d7604c95f17b"
      },
      "execution_count": 114,
      "outputs": [
        {
          "output_type": "stream",
          "name": "stdout",
          "text": [
            "Total LoRA parameters: 3020\n"
          ]
        }
      ]
    },
    {
      "cell_type": "code",
      "source": [
        "#@ Freezing non-lora params:\n",
        "for name, param in net.named_parameters():\n",
        "  if 'lora' not in name:\n",
        "    param.requires_grad=False\n",
        "\n",
        "for layer in [net.linear1, net.linear2]:\n",
        "    layer.parametrizations.weight[0].LoRA_A.requires_grad = True\n",
        "    layer.parametrizations.weight[0].LoRA_B.requires_grad = True"
      ],
      "metadata": {
        "id": "_wExC9wrVF-5"
      },
      "execution_count": 115,
      "outputs": []
    },
    {
      "cell_type": "code",
      "source": [
        "#@ MNIST Data for digit 9:\n",
        "mnist_trainset = datasets.MNIST(root='./data', train=True, download=True, transform=transform)\n",
        "exclude_indices = mnist_trainset.targets == 9\n",
        "mnist_trainset.data = mnist_trainset.data[exclude_indices]\n",
        "mnist_trainset.targets = mnist_trainset.targets[exclude_indices]\n",
        "# Create a dataloader for the training\n",
        "train_loader = torch.utils.data.DataLoader(mnist_trainset, batch_size=10, shuffle=True)\n",
        "\n",
        "train(train_loader, net, epochs=1)"
      ],
      "metadata": {
        "colab": {
          "base_uri": "https://localhost:8080/"
        },
        "id": "hUiDlCWGVhio",
        "outputId": "8848a07a-3991-4d7a-b98c-cb9c5d8efb83"
      },
      "execution_count": 116,
      "outputs": [
        {
          "output_type": "stream",
          "name": "stderr",
          "text": [
            "Epoch 1: 100%|██████████| 595/595 [00:03<00:00, 178.13it/s, loss=0.0144]\n"
          ]
        }
      ]
    },
    {
      "cell_type": "code",
      "source": [
        "# Check that the frozen parameters are still unchanged by the finetuning\n",
        "assert torch.all(net.linear1.parametrizations.weight.original == original_weights['linear1.weight'])\n",
        "assert torch.all(net.linear2.parametrizations.weight.original == original_weights['linear2.weight'])\n",
        "\n",
        "\n",
        "enable_disable_lora(enabled=True)\n",
        "# The new linear1.weight is obtained by the \"forward\" function of our LoRA parametrization\n",
        "# The original weights have been moved to net.linear1.parametrizations.weight.original\n",
        "# More info here: https://pytorch.org/tutorials/intermediate/parametrizations.html#inspecting-a-parametrized-module\n",
        "assert torch.equal(net.linear1.weight, net.linear1.parametrizations.weight.original + (net.linear1.parametrizations.weight[0].LoRA_B @ net.linear1.parametrizations.weight[0].LoRA_A) * net.linear1.parametrizations.weight[0].scale)\n",
        "\n",
        "enable_disable_lora(enabled=False)\n",
        "# If we disable LoRA, the linear1.weight is the original one\n",
        "assert torch.equal(net.linear1.weight, original_weights['linear1.weight'])"
      ],
      "metadata": {
        "colab": {
          "base_uri": "https://localhost:8080/",
          "height": 228
        },
        "id": "yWqgcZbmZoc5",
        "outputId": "9c02c51e-825a-4435-91a0-3c90e552b41a"
      },
      "execution_count": 117,
      "outputs": [
        {
          "output_type": "error",
          "ename": "RuntimeError",
          "evalue": "The size of tensor a (784) must match the size of tensor b (1500) at non-singleton dimension 1",
          "traceback": [
            "\u001b[0;31m---------------------------------------------------------------------------\u001b[0m",
            "\u001b[0;31mRuntimeError\u001b[0m                              Traceback (most recent call last)",
            "\u001b[0;32m/tmp/ipython-input-1506972804.py\u001b[0m in \u001b[0;36m<cell line: 0>\u001b[0;34m()\u001b[0m\n\u001b[1;32m      8\u001b[0m \u001b[0;31m# The original weights have been moved to net.linear1.parametrizations.weight.original\u001b[0m\u001b[0;34m\u001b[0m\u001b[0;34m\u001b[0m\u001b[0m\n\u001b[1;32m      9\u001b[0m \u001b[0;31m# More info here: https://pytorch.org/tutorials/intermediate/parametrizations.html#inspecting-a-parametrized-module\u001b[0m\u001b[0;34m\u001b[0m\u001b[0;34m\u001b[0m\u001b[0m\n\u001b[0;32m---> 10\u001b[0;31m \u001b[0;32massert\u001b[0m \u001b[0mtorch\u001b[0m\u001b[0;34m.\u001b[0m\u001b[0mequal\u001b[0m\u001b[0;34m(\u001b[0m\u001b[0mnet\u001b[0m\u001b[0;34m.\u001b[0m\u001b[0mlinear1\u001b[0m\u001b[0;34m.\u001b[0m\u001b[0mweight\u001b[0m\u001b[0;34m,\u001b[0m \u001b[0mnet\u001b[0m\u001b[0;34m.\u001b[0m\u001b[0mlinear1\u001b[0m\u001b[0;34m.\u001b[0m\u001b[0mparametrizations\u001b[0m\u001b[0;34m.\u001b[0m\u001b[0mweight\u001b[0m\u001b[0;34m.\u001b[0m\u001b[0moriginal\u001b[0m \u001b[0;34m+\u001b[0m \u001b[0;34m(\u001b[0m\u001b[0mnet\u001b[0m\u001b[0;34m.\u001b[0m\u001b[0mlinear1\u001b[0m\u001b[0;34m.\u001b[0m\u001b[0mparametrizations\u001b[0m\u001b[0;34m.\u001b[0m\u001b[0mweight\u001b[0m\u001b[0;34m[\u001b[0m\u001b[0;36m0\u001b[0m\u001b[0;34m]\u001b[0m\u001b[0;34m.\u001b[0m\u001b[0mLoRA_B\u001b[0m \u001b[0;34m@\u001b[0m \u001b[0mnet\u001b[0m\u001b[0;34m.\u001b[0m\u001b[0mlinear1\u001b[0m\u001b[0;34m.\u001b[0m\u001b[0mparametrizations\u001b[0m\u001b[0;34m.\u001b[0m\u001b[0mweight\u001b[0m\u001b[0;34m[\u001b[0m\u001b[0;36m0\u001b[0m\u001b[0;34m]\u001b[0m\u001b[0;34m.\u001b[0m\u001b[0mLoRA_A\u001b[0m\u001b[0;34m)\u001b[0m \u001b[0;34m*\u001b[0m \u001b[0mnet\u001b[0m\u001b[0;34m.\u001b[0m\u001b[0mlinear1\u001b[0m\u001b[0;34m.\u001b[0m\u001b[0mparametrizations\u001b[0m\u001b[0;34m.\u001b[0m\u001b[0mweight\u001b[0m\u001b[0;34m[\u001b[0m\u001b[0;36m0\u001b[0m\u001b[0;34m]\u001b[0m\u001b[0;34m.\u001b[0m\u001b[0mscale\u001b[0m\u001b[0;34m)\u001b[0m\u001b[0;34m\u001b[0m\u001b[0;34m\u001b[0m\u001b[0m\n\u001b[0m\u001b[1;32m     11\u001b[0m \u001b[0;34m\u001b[0m\u001b[0m\n\u001b[1;32m     12\u001b[0m \u001b[0menable_disable_lora\u001b[0m\u001b[0;34m(\u001b[0m\u001b[0menabled\u001b[0m\u001b[0;34m=\u001b[0m\u001b[0;32mFalse\u001b[0m\u001b[0;34m)\u001b[0m\u001b[0;34m\u001b[0m\u001b[0;34m\u001b[0m\u001b[0m\n",
            "\u001b[0;31mRuntimeError\u001b[0m: The size of tensor a (784) must match the size of tensor b (1500) at non-singleton dimension 1"
          ]
        }
      ]
    },
    {
      "cell_type": "code",
      "source": [
        "\n",
        "# Test with LoRA enabled\n",
        "enable_disable_lora(enabled=True)\n",
        "test()"
      ],
      "metadata": {
        "colab": {
          "base_uri": "https://localhost:8080/"
        },
        "id": "CBFllUQDXdOh",
        "outputId": "28f034c2-2b24-4415-e130-f55ecb900344"
      },
      "execution_count": 118,
      "outputs": [
        {
          "output_type": "stream",
          "name": "stderr",
          "text": [
            "Testing: 100%|██████████| 1000/1000 [00:04<00:00, 244.22it/s]"
          ]
        },
        {
          "output_type": "stream",
          "name": "stdout",
          "text": [
            "Accuracy: 0.101\n",
            "wrong counts for digit 0: 980\n",
            "wrong counts for digit 1: 1135\n",
            "wrong counts for digit 2: 1032\n",
            "wrong counts for digit 3: 1010\n",
            "wrong counts for digit 4: 982\n",
            "wrong counts for digit 5: 892\n",
            "wrong counts for digit 6: 958\n",
            "wrong counts for digit 7: 1028\n",
            "wrong counts for digit 8: 974\n",
            "wrong counts for digit 9: 0\n"
          ]
        },
        {
          "output_type": "stream",
          "name": "stderr",
          "text": [
            "\n"
          ]
        }
      ]
    },
    {
      "cell_type": "code",
      "source": [
        "enable_disable_lora(enabled=False)\n",
        "test()"
      ],
      "metadata": {
        "colab": {
          "base_uri": "https://localhost:8080/"
        },
        "id": "WOv3I2hrZivh",
        "outputId": "53861aab-4488-48cf-b32d-85a210a56cd5"
      },
      "execution_count": 119,
      "outputs": [
        {
          "output_type": "stream",
          "name": "stderr",
          "text": [
            "Testing: 100%|██████████| 1000/1000 [00:03<00:00, 302.56it/s]"
          ]
        },
        {
          "output_type": "stream",
          "name": "stdout",
          "text": [
            "Accuracy: 0.12\n",
            "wrong counts for digit 0: 894\n",
            "wrong counts for digit 1: 1126\n",
            "wrong counts for digit 2: 834\n",
            "wrong counts for digit 3: 1005\n",
            "wrong counts for digit 4: 961\n",
            "wrong counts for digit 5: 787\n",
            "wrong counts for digit 6: 956\n",
            "wrong counts for digit 7: 1028\n",
            "wrong counts for digit 8: 888\n",
            "wrong counts for digit 9: 318\n"
          ]
        },
        {
          "output_type": "stream",
          "name": "stderr",
          "text": [
            "\n"
          ]
        }
      ]
    }
  ]
}