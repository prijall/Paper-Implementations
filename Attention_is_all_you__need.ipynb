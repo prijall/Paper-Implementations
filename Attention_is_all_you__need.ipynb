{
  "nbformat": 4,
  "nbformat_minor": 0,
  "metadata": {
    "colab": {
      "provenance": [],
      "gpuType": "T4",
      "authorship_tag": "ABX9TyOaBjIsaQl28fkeRnZ5u9M8"
    },
    "kernelspec": {
      "name": "python3",
      "display_name": "Python 3"
    },
    "language_info": {
      "name": "python"
    },
    "accelerator": "GPU"
  },
  "cells": [
    {
      "cell_type": "markdown",
      "source": [
        "# Attention is all you need\n",
        "- In this colab notebook, I am going to re-implement the paper **Attention is all you need** from scratch"
      ],
      "metadata": {
        "id": "vY7ifR1j1b3s"
      }
    },
    {
      "cell_type": "code",
      "source": [
        "import math\n",
        "import random\n",
        "import numpy as np\n",
        "import seaborn as sns\n",
        "from pylab import rcParams\n",
        "import matplotlib.pyplot as plt\n",
        "from matplotlib import rc\n",
        "\n",
        "import torch\n",
        "import torch.nn as nn\n",
        "import torch.optim as optim\n",
        "import torch.nn.functional as F\n",
        "\n",
        "\n",
        "import warnings\n",
        "from tqdm.notebook import tqdm\n",
        "warnings.filterwarnings('ignore')"
      ],
      "metadata": {
        "id": "WvD8bh1A4CUy"
      },
      "execution_count": 7,
      "outputs": []
    },
    {
      "cell_type": "markdown",
      "source": [
        "## Model Architecture"
      ],
      "metadata": {
        "id": "38tvvjA312zb"
      }
    },
    {
      "cell_type": "markdown",
      "source": [
        "### Scaled Dot Product"
      ],
      "metadata": {
        "id": "rSvASG8k2g-T"
      }
    },
    {
      "cell_type": "markdown",
      "source": [
        "![scaled_dot_product_attention](data:image/png;base64,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 \"Scaled Dot-Product Attention Block\")\n",
        "\n",
        "(source: https://arxiv.org/pdf/1706.03762.pdf)\n",
        "\n",
        "$$\n",
        "\\text{Attention}(Q, K, V) = \\text{softmax}(\\frac{Q K^T}{\\sqrt{d_k}}) V\n",
        "$$\n",
        "\n"
      ],
      "metadata": {
        "id": "dUUCNsyE2BFD"
      }
    },
    {
      "cell_type": "code",
      "source": [
        "class ScaledDotProductAttention(nn.Module):\n",
        "  def __init__(self, scale):\n",
        "    super(ScaledDotProductAttention, self).__init__()\n",
        "    self.scale=scale\n",
        "\n",
        "  def forward(self, query, key, value, mask=None):\n",
        "    \"\"\"\n",
        "    query:(batch_size, n_heads, query_len, head_dim),\n",
        "    key:(batch_size, n_heads, key_len, head_dim),\n",
        "    value:(batch_size, n_heads, value_len, head_dim)\n",
        "    \"\"\"\n",
        "    alignment_score=torch.matmul(query, key.transpose(-2, -1)) #(batch_size, n_heads, query_len, value_len)\n",
        "    alignment_score=alignment_score/self.scale\n",
        "\n",
        "    if mask is not None:\n",
        "      alignment_score=alignment_score.masked_fill(mask==0, float('-inf'))\n",
        "\n",
        "    attention_probab=F.softmax(alignment_score, dim=-1)\n",
        "\n",
        "    output=torch.matmul(attention_probab, value)\n",
        "\n",
        "    return output"
      ],
      "metadata": {
        "id": "XMWnnU_H3RMT"
      },
      "execution_count": 9,
      "outputs": []
    }
  ]
}